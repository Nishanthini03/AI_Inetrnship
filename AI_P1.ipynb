{
  "nbformat": 4,
  "nbformat_minor": 0,
  "metadata": {
    "colab": {
      "provenance": [],
      "authorship_tag": "ABX9TyMWNzu1QhIf62C+QttH4LNe",
      "include_colab_link": true
    },
    "kernelspec": {
      "name": "python3",
      "display_name": "Python 3"
    },
    "language_info": {
      "name": "python"
    }
  },
  "cells": [
    {
      "cell_type": "markdown",
      "metadata": {
        "id": "view-in-github",
        "colab_type": "text"
      },
      "source": [
        "<a href=\"https://colab.research.google.com/github/Nishanthini03/AI_Inetrnship/blob/main/AI_P1.ipynb\" target=\"_parent\"><img src=\"https://colab.research.google.com/assets/colab-badge.svg\" alt=\"Open In Colab\"/></a>"
      ]
    },
    {
      "cell_type": "markdown",
      "source": [
        "Vector, Matrix and Tensor"
      ],
      "metadata": {
        "id": "oROg-t8KiyRU"
      }
    },
    {
      "cell_type": "code",
      "execution_count": null,
      "metadata": {
        "colab": {
          "base_uri": "https://localhost:8080/"
        },
        "id": "VP6iNdiVH41V",
        "outputId": "12ade1a0-51b7-4216-a587-3382b4409c6c"
      },
      "outputs": [
        {
          "output_type": "stream",
          "name": "stdout",
          "text": [
            "Vector \n",
            " [1 2 3]\n",
            "\n",
            "Matrix \n",
            " [[1 2 3]\n",
            " [4 5 6]]\n",
            "\n",
            " Tensor \n",
            "[[[1 2 3]\n",
            "  [1 2 3]]\n",
            "\n",
            " [[4 5 6]\n",
            "  [4 5 6]]]\n",
            "\n",
            "Shape of vector: (3,)\n",
            "Shape of matrix: (2, 3)\n",
            "Shape of tensor: (2, 2, 3)\n",
            "Number of dimensions of tensor: 3\n",
            "Total number of elements in the tensor: 12\n",
            "Change shape of tensor: \n",
            "[[1 2 3]\n",
            " [1 2 3]\n",
            " [4 5 6]\n",
            " [4 5 6]]\n",
            "\n",
            "Total Sum: 42\n",
            "\n",
            "Sum Across First Axis:\n",
            " [[5 7 9]\n",
            " [5 7 9]]\n",
            "\n",
            "Sum Across Second Axis:\n",
            " [[ 2  4  6]\n",
            " [ 8 10 12]]\n",
            "\n",
            "Sum Across Third Axis:\n",
            " [[ 6  6]\n",
            " [15 15]]\n",
            "\n",
            "Mean Across First Axis:\n",
            " [[2.5 3.5 4.5]\n",
            " [2.5 3.5 4.5]]\n",
            "\n",
            "Mean Across Second Axis:\n",
            " [[1. 2. 3.]\n",
            " [4. 5. 6.]]\n",
            "\n",
            "Mean Across Third Axis:\n",
            " [[2. 2.]\n",
            " [5. 5.]]\n",
            "\n",
            "First Matrix:\n",
            " [[1 2 3]\n",
            " [1 2 3]]\n",
            "\n",
            "Element at [0, 1, 2]: 3\n"
          ]
        }
      ],
      "source": [
        "import numpy as np\n",
        "vector = np.array([1,2,3])  #1D\n",
        "matrix = np.array([[1,2,3], [4,5,6]]) #2D\n",
        "tensor = np.array([[[1,2,3], [1,2,3]], [[4,5,6], [4,5,6]]]) #3D(two matrices with size of 2x3)\n",
        "\n",
        "print(\"Vector \\n\", vector)\n",
        "print(\"\\nMatrix \\n\", matrix)\n",
        "print(f\"\\n Tensor \\n{tensor}\\n\")\n",
        "print(f\"Shape of vector: {vector.shape}\")\n",
        "print(f\"Shape of matrix: {matrix.shape}\")\n",
        "print(f\"Shape of tensor: {tensor.shape}\")\n",
        "print(f\"Number of dimensions of tensor: {tensor.ndim}\")\n",
        "print(f\"Total number of elements in the tensor: {tensor.size}\")\n",
        "print(f\"Change shape of tensor: \\n{tensor.reshape(4,3)}\")\n",
        "print(\"\\nTotal Sum:\", np.sum(tensor))\n",
        "print(\"\\nSum Across First Axis:\\n\", np.sum(tensor, axis=0))\n",
        "print(\"\\nSum Across Second Axis:\\n\", np.sum(tensor, axis=1))\n",
        "print(\"\\nSum Across Third Axis:\\n\", np.sum(tensor, axis=2))\n",
        "print(\"\\nMean Across First Axis:\\n\", np.mean(tensor, axis=0))\n",
        "print(\"\\nMean Across Second Axis:\\n\", np.mean(tensor, axis=1))\n",
        "print(\"\\nMean Across Third Axis:\\n\", np.mean(tensor, axis=2))\n",
        "# Accessing the first matrix\n",
        "print(\"\\nFirst Matrix:\\n\", tensor[0])\n",
        "\n",
        "# Accessing a specific element (Row 2, Column 3 of Matrix 1)\n",
        "print(\"\\nElement at [0, 1, 2]:\", tensor[0, 1, 2])  # Output: 7\n"
      ]
    },
    {
      "cell_type": "code",
      "source": [
        "A = np.array([[1, 2], [3, 4]])\n",
        "B = np.array([[5, 6], [7, 8]])\n",
        "\n",
        "sum_matrix = A + B\n",
        "prod_matrix = A @ B  # Matrix multiplication\n",
        "transposed = A.T  # Transpose\n",
        "inverse_A = np.linalg.inv(A)  # Inverse of A\n",
        "\n",
        "print(\"Sum of Matrices:\\n\", sum_matrix)\n",
        "print(\"Matrix Product:\\n\", prod_matrix)\n",
        "print(\"Transpose of A:\\n\", transposed)\n",
        "print(\"Inverse of A:\\n\", inverse_A)"
      ],
      "metadata": {
        "colab": {
          "base_uri": "https://localhost:8080/"
        },
        "id": "U-vqabpqiBAS",
        "outputId": "d8d9349d-3a03-4f18-d0aa-bd5360d2c230"
      },
      "execution_count": null,
      "outputs": [
        {
          "output_type": "stream",
          "name": "stdout",
          "text": [
            "Sum of Matrices:\n",
            " [[ 6  8]\n",
            " [10 12]]\n",
            "Matrix Product:\n",
            " [[19 22]\n",
            " [43 50]]\n",
            "Transpose of A:\n",
            " [[1 3]\n",
            " [2 4]]\n",
            "Inverse of A:\n",
            " [[-2.   1. ]\n",
            " [ 1.5 -0.5]]\n"
          ]
        }
      ]
    },
    {
      "cell_type": "code",
      "source": [
        "v1 = np.array([2, 3, 4])\n",
        "v2 = np.array([1, 0, -1])\n",
        "dot_product = np.dot(v1, v2)\n",
        "print(\"Dot Product:\", dot_product)"
      ],
      "metadata": {
        "colab": {
          "base_uri": "https://localhost:8080/"
        },
        "id": "R_zG8ttliNyH",
        "outputId": "9a19794f-4c7e-4811-f41d-c192be48c2f7"
      },
      "execution_count": null,
      "outputs": [
        {
          "output_type": "stream",
          "name": "stdout",
          "text": [
            "Dot Product: -2\n"
          ]
        }
      ]
    },
    {
      "cell_type": "code",
      "source": [
        "random_tensor = np.random.randint(1, 100, (2, 3, 4))  # Random integers from 1 to 99\n",
        "print(\"\\nRandom 3D Tensor:\\n\", random_tensor)"
      ],
      "metadata": {
        "colab": {
          "base_uri": "https://localhost:8080/"
        },
        "id": "9Q2S7EMPPEf0",
        "outputId": "4f5f44c6-4dcf-4c8c-9225-6dc173994077"
      },
      "execution_count": null,
      "outputs": [
        {
          "output_type": "stream",
          "name": "stdout",
          "text": [
            "\n",
            "Random 3D Tensor:\n",
            " [[[16 60 40 39]\n",
            "  [87 59 24 37]\n",
            "  [ 7 97 82 89]]\n",
            "\n",
            " [[98 78 39 28]\n",
            "  [22 67 53 85]\n",
            "  [95 11 19 46]]]\n"
          ]
        }
      ]
    },
    {
      "cell_type": "markdown",
      "source": [
        "Transpose"
      ],
      "metadata": {
        "id": "oa32IfQyP277"
      }
    },
    {
      "cell_type": "code",
      "source": [
        "import numpy as np\n",
        "\n",
        "matrix = np.array([[1, 2, 3],\n",
        "                   [4, 5, 6]])\n",
        "\n",
        "print(\"Original Matrix:\\n\", matrix)\n",
        "\n",
        "# Transpose the matrix\n",
        "matrix_T = np.transpose(matrix)\n",
        "print(\"\\nTransposed Matrix:\\n\", matrix_T)\n",
        "print(matrix.T)  # Same result\n",
        "\n",
        "tensor = np.array([\n",
        "    [[1, 2], [3, 4]],  # First 2x2 matrix\n",
        "    [[5, 6], [7, 8]]   # Second 2x2 matrix\n",
        "])\n",
        "\n",
        "print(\"Original Tensor Shape:\", tensor.shape)  # (2, 2, 2)\n",
        "\n",
        "# Transpose with axes (1, 0, 2)\n",
        "tensor_T = np.transpose(tensor, (1, 0, 2))\n",
        "#1 moves to the first position → Rows become the first dimension.\n",
        "#0 moves to the second position → Depth becomes the second dimension.\n",
        "#2 stays in the same position → Columns remain unchanged.\n",
        "#First matrix becomes: Row 1 from all previous matrices\n",
        "#Second matrix becomes: Row 2 from all previous matrices\n",
        "print(\"\\nTransposed Tensor Shape:\", tensor_T.shape)\n",
        "print(\"\\nTransposed Tensor(1, 0, 2):\\n\", tensor_T)\n",
        "\n",
        "transposed_tensor = np.transpose(tensor, (2, 1, 0))\n",
        "print(\"\\nTransposed Tensor Shape:\", transposed_tensor.shape)  # Output: (2,2,2)\n",
        "print(\"\\nTransposed Tensor(2, 1, 0):\\n\", transposed_tensor)\n",
        "#First matrix: Column 1 from all previous matrices\n",
        "#Second matrix: Column 2 from all previous matrices\n",
        "\n",
        "transposed_tensor1 = np.transpose(tensor, (0, 2, 1))\n",
        "#Swapping rows and columns for each matrix\n",
        "print(\"\\nTransposed Tensor Shape:\", transposed_tensor1.shape)  # Output: (2,2,2)\n",
        "print(\"\\nTransposed Tensor(0, 2, 1):\\n\", transposed_tensor1)\n"
      ],
      "metadata": {
        "colab": {
          "base_uri": "https://localhost:8080/"
        },
        "id": "t9qqp17OP1Eg",
        "outputId": "65fc915a-8173-414b-a80d-542f6349f0f3"
      },
      "execution_count": null,
      "outputs": [
        {
          "output_type": "stream",
          "name": "stdout",
          "text": [
            "Original Matrix:\n",
            " [[1 2 3]\n",
            " [4 5 6]]\n",
            "\n",
            "Transposed Matrix:\n",
            " [[1 4]\n",
            " [2 5]\n",
            " [3 6]]\n",
            "[[1 4]\n",
            " [2 5]\n",
            " [3 6]]\n",
            "Original Tensor Shape: (2, 2, 2)\n",
            "\n",
            "Transposed Tensor Shape: (2, 2, 2)\n",
            "\n",
            "Transposed Tensor(1, 0, 2):\n",
            " [[[1 2]\n",
            "  [5 6]]\n",
            "\n",
            " [[3 4]\n",
            "  [7 8]]]\n",
            "\n",
            "Transposed Tensor Shape: (2, 2, 2)\n",
            "\n",
            "Transposed Tensor(2, 1, 0):\n",
            " [[[1 5]\n",
            "  [3 7]]\n",
            "\n",
            " [[2 6]\n",
            "  [4 8]]]\n",
            "\n",
            "Transposed Tensor Shape: (2, 2, 2)\n",
            "\n",
            "Transposed Tensor(0, 2, 1):\n",
            " [[[1 3]\n",
            "  [2 4]]\n",
            "\n",
            " [[5 7]\n",
            "  [6 8]]]\n"
          ]
        }
      ]
    },
    {
      "cell_type": "markdown",
      "source": [
        "Eigenvalues and Eigenvectors"
      ],
      "metadata": {
        "id": "i2QCZjUzine3"
      }
    },
    {
      "cell_type": "code",
      "source": [
        "eigenvalues, eigenvectors = np.linalg.eig(A)\n",
        "\n",
        "print(\"Eigenvalues:\\n\", eigenvalues)\n",
        "print(\"Eigenvectors:\\n\", eigenvectors)"
      ],
      "metadata": {
        "colab": {
          "base_uri": "https://localhost:8080/"
        },
        "id": "5Du1mQW_idym",
        "outputId": "ac7033c9-b68c-4363-db04-ad01392162db"
      },
      "execution_count": null,
      "outputs": [
        {
          "output_type": "stream",
          "name": "stdout",
          "text": [
            "Eigenvalues:\n",
            " [-0.37228132  5.37228132]\n",
            "Eigenvectors:\n",
            " [[-0.82456484 -0.41597356]\n",
            " [ 0.56576746 -0.90937671]]\n"
          ]
        }
      ]
    }
  ]
}