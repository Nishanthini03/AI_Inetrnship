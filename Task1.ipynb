{
  "nbformat": 4,
  "nbformat_minor": 0,
  "metadata": {
    "colab": {
      "provenance": []
    },
    "kernelspec": {
      "name": "python3",
      "display_name": "Python 3"
    },
    "language_info": {
      "name": "python"
    }
  },
  "cells": [
    {
      "cell_type": "markdown",
      "source": [
        "**Load and Explore Data**"
      ],
      "metadata": {
        "id": "NPJ__0MNNiMe"
      }
    },
    {
      "cell_type": "code",
      "source": [
        "from google.colab import drive\n",
        "drive.mount('/content/drive')"
      ],
      "metadata": {
        "colab": {
          "base_uri": "https://localhost:8080/"
        },
        "id": "1P7Xe4N4mfeP",
        "outputId": "9d5d28f1-ae9e-4073-ead0-50b34a8cbf51"
      },
      "execution_count": 1,
      "outputs": [
        {
          "output_type": "stream",
          "name": "stdout",
          "text": [
            "Drive already mounted at /content/drive; to attempt to forcibly remount, call drive.mount(\"/content/drive\", force_remount=True).\n"
          ]
        }
      ]
    },
    {
      "cell_type": "code",
      "execution_count": 2,
      "metadata": {
        "id": "Sm-KYRGh4-tg",
        "outputId": "ed005dc1-aa41-442a-beb2-5402065d0335",
        "colab": {
          "base_uri": "https://localhost:8080/"
        }
      },
      "outputs": [
        {
          "output_type": "stream",
          "name": "stdout",
          "text": [
            "<class 'pandas.core.frame.DataFrame'>\n",
            "RangeIndex: 14640 entries, 0 to 14639\n",
            "Data columns (total 15 columns):\n",
            " #   Column                        Non-Null Count  Dtype  \n",
            "---  ------                        --------------  -----  \n",
            " 0   tweet_id                      14640 non-null  int64  \n",
            " 1   airline_sentiment             14640 non-null  object \n",
            " 2   airline_sentiment_confidence  14640 non-null  float64\n",
            " 3   negativereason                9178 non-null   object \n",
            " 4   negativereason_confidence     10522 non-null  float64\n",
            " 5   airline                       14640 non-null  object \n",
            " 6   airline_sentiment_gold        40 non-null     object \n",
            " 7   name                          14640 non-null  object \n",
            " 8   negativereason_gold           32 non-null     object \n",
            " 9   retweet_count                 14640 non-null  int64  \n",
            " 10  text                          14640 non-null  object \n",
            " 11  tweet_coord                   1019 non-null   object \n",
            " 12  tweet_created                 14640 non-null  object \n",
            " 13  tweet_location                9907 non-null   object \n",
            " 14  user_timezone                 9820 non-null   object \n",
            "dtypes: float64(2), int64(2), object(11)\n",
            "memory usage: 1.7+ MB\n",
            "None\n",
            "             tweet_id airline_sentiment  airline_sentiment_confidence  \\\n",
            "0  570306133677760513           neutral                        1.0000   \n",
            "1  570301130888122368          positive                        0.3486   \n",
            "2  570301083672813571           neutral                        0.6837   \n",
            "3  570301031407624196          negative                        1.0000   \n",
            "4  570300817074462722          negative                        1.0000   \n",
            "\n",
            "  negativereason  negativereason_confidence         airline  \\\n",
            "0            NaN                        NaN  Virgin America   \n",
            "1            NaN                     0.0000  Virgin America   \n",
            "2            NaN                        NaN  Virgin America   \n",
            "3     Bad Flight                     0.7033  Virgin America   \n",
            "4     Can't Tell                     1.0000  Virgin America   \n",
            "\n",
            "  airline_sentiment_gold        name negativereason_gold  retweet_count  \\\n",
            "0                    NaN     cairdin                 NaN              0   \n",
            "1                    NaN    jnardino                 NaN              0   \n",
            "2                    NaN  yvonnalynn                 NaN              0   \n",
            "3                    NaN    jnardino                 NaN              0   \n",
            "4                    NaN    jnardino                 NaN              0   \n",
            "\n",
            "                                                text tweet_coord  \\\n",
            "0                @VirginAmerica What @dhepburn said.         NaN   \n",
            "1  @VirginAmerica plus you've added commercials t...         NaN   \n",
            "2  @VirginAmerica I didn't today... Must mean I n...         NaN   \n",
            "3  @VirginAmerica it's really aggressive to blast...         NaN   \n",
            "4  @VirginAmerica and it's a really big bad thing...         NaN   \n",
            "\n",
            "               tweet_created tweet_location               user_timezone  \n",
            "0  2015-02-24 11:35:52 -0800            NaN  Eastern Time (US & Canada)  \n",
            "1  2015-02-24 11:15:59 -0800            NaN  Pacific Time (US & Canada)  \n",
            "2  2015-02-24 11:15:48 -0800      Lets Play  Central Time (US & Canada)  \n",
            "3  2015-02-24 11:15:36 -0800            NaN  Pacific Time (US & Canada)  \n",
            "4  2015-02-24 11:14:45 -0800            NaN  Pacific Time (US & Canada)  \n",
            "airline_sentiment\n",
            "negative    9178\n",
            "neutral     3099\n",
            "positive    2363\n",
            "Name: count, dtype: int64\n"
          ]
        }
      ],
      "source": [
        "import pandas as pd\n",
        "\n",
        "# Load the dataset\n",
        "df = pd.read_csv(\"/content/drive/MyDrive/AI_Internship/Tweets.csv\")\n",
        "\n",
        "# Display basic info\n",
        "print(df.info())\n",
        "\n",
        "# Show first few rows\n",
        "print(df.head())\n",
        "\n",
        "# Check sentiment distribution\n",
        "print(df['airline_sentiment'].value_counts())\n"
      ]
    },
    {
      "cell_type": "code",
      "source": [
        "print(df.isnull().sum())  # Check missing values in each column"
      ],
      "metadata": {
        "colab": {
          "base_uri": "https://localhost:8080/"
        },
        "id": "GzVtvxUmhdDA",
        "outputId": "0ec488b5-fd81-429e-b9d0-2a955f86ddae"
      },
      "execution_count": 3,
      "outputs": [
        {
          "output_type": "stream",
          "name": "stdout",
          "text": [
            "tweet_id                            0\n",
            "airline_sentiment                   0\n",
            "airline_sentiment_confidence        0\n",
            "negativereason                   5462\n",
            "negativereason_confidence        4118\n",
            "airline                             0\n",
            "airline_sentiment_gold          14600\n",
            "name                                0\n",
            "negativereason_gold             14608\n",
            "retweet_count                       0\n",
            "text                                0\n",
            "tweet_coord                     13621\n",
            "tweet_created                       0\n",
            "tweet_location                   4733\n",
            "user_timezone                    4820\n",
            "dtype: int64\n"
          ]
        }
      ]
    },
    {
      "cell_type": "markdown",
      "source": [
        "**Data Preprocessing**"
      ],
      "metadata": {
        "id": "o2yqKtNWNnHq"
      }
    },
    {
      "cell_type": "code",
      "source": [
        "df = df[['text', 'airline_sentiment']]  # Keep only necessary columns\n",
        "import re\n",
        "import nltk\n",
        "from nltk.corpus import stopwords\n",
        "\n",
        "# Download stopwords\n",
        "nltk.download('stopwords')\n",
        "stop_words = set(stopwords.words('english'))\n",
        "\n",
        "def clean_text(text):\n",
        "    text = text.lower()  # Convert to lowercase\n",
        "    text = re.sub(r'@\\w+', '', text)  # Remove mentions (@user)\n",
        "    text = re.sub(r'http\\S+', '', text)  # Remove URLs\n",
        "    text = re.sub(r'[^a-z\\s]', '', text)  # Remove punctuation and numbers\n",
        "    text = ' '.join(word for word in text.split() if word not in stop_words)  # Remove stopwords\n",
        "    return text\n",
        "\n",
        "df['cleaned_text'] = df['text'].apply(clean_text)\n",
        "print(df.head())  # Check cleaned text\n"
      ],
      "metadata": {
        "colab": {
          "base_uri": "https://localhost:8080/"
        },
        "id": "oxRhBdoMMj8G",
        "outputId": "b32e5a8d-eb76-4281-b071-400e92e65976"
      },
      "execution_count": 4,
      "outputs": [
        {
          "output_type": "stream",
          "name": "stderr",
          "text": [
            "[nltk_data] Downloading package stopwords to /root/nltk_data...\n"
          ]
        },
        {
          "output_type": "stream",
          "name": "stdout",
          "text": [
            "                                                text airline_sentiment  \\\n",
            "0                @VirginAmerica What @dhepburn said.           neutral   \n",
            "1  @VirginAmerica plus you've added commercials t...          positive   \n",
            "2  @VirginAmerica I didn't today... Must mean I n...           neutral   \n",
            "3  @VirginAmerica it's really aggressive to blast...          negative   \n",
            "4  @VirginAmerica and it's a really big bad thing...          negative   \n",
            "\n",
            "                                        cleaned_text  \n",
            "0                                               said  \n",
            "1      plus youve added commercials experience tacky  \n",
            "2       didnt today must mean need take another trip  \n",
            "3  really aggressive blast obnoxious entertainmen...  \n",
            "4                               really big bad thing  \n"
          ]
        },
        {
          "output_type": "stream",
          "name": "stderr",
          "text": [
            "[nltk_data]   Unzipping corpora/stopwords.zip.\n"
          ]
        }
      ]
    },
    {
      "cell_type": "markdown",
      "source": [
        "**Exploratory Data Analysis (EDA)**"
      ],
      "metadata": {
        "id": "GvEGau3sNzo2"
      }
    },
    {
      "cell_type": "markdown",
      "source": [
        "Check Sentiment Distribution"
      ],
      "metadata": {
        "id": "qhpItMUrN281"
      }
    },
    {
      "cell_type": "code",
      "source": [
        "import matplotlib.pyplot as plt\n",
        "import seaborn as sns\n",
        "\n",
        "sns.countplot(x=df['airline_sentiment'])\n",
        "plt.title(\"Sentiment Distribution\")\n",
        "plt.show()\n"
      ],
      "metadata": {
        "colab": {
          "base_uri": "https://localhost:8080/",
          "height": 472
        },
        "id": "56-GBrmsNFew",
        "outputId": "c2deb298-3523-4f68-e452-e731e0f2f42d"
      },
      "execution_count": 5,
      "outputs": [
        {
          "output_type": "display_data",
          "data": {
            "text/plain": [
              "<Figure size 640x480 with 1 Axes>"
            ],
            "image/png": "[encoded data removed]"
          },
          "metadata": {}
        }
      ]
    },
    {
      "cell_type": "markdown",
      "source": [
        "**Feature Extraction (TF-IDF Vectorization)**"
      ],
      "metadata": {
        "id": "dh9oFiWgOEoP"
      }
    },
    {
      "cell_type": "markdown",
      "source": [
        "Convert Text into TF-IDF Features"
      ],
      "metadata": {
        "id": "P0gnNLJSOHex"
      }
    },
    {
      "cell_type": "code",
      "source": [
        "from sklearn.feature_extraction.text import TfidfVectorizer\n",
        "\n",
        "# Initialize TF-IDF Vectorizer\n",
        "vectorizer = TfidfVectorizer(max_features=8000)  # Limit features to 8000 words\n",
        "\n",
        "# Transform the cleaned text data\n",
        "X = vectorizer.fit_transform(df['cleaned_text'])\n",
        "\n",
        "# Convert sentiment labels into numerical values\n",
        "y = df['airline_sentiment'].map({'negative': 0, 'neutral': 1, 'positive': 2})\n"
      ],
      "metadata": {
        "id": "pwM-zURFNOHl"
      },
      "execution_count": 7,
      "outputs": []
    },
    {
      "cell_type": "markdown",
      "source": [
        "**Train Sentiment Classification Models**"
      ],
      "metadata": {
        "id": "mqgZGpM4OSzJ"
      }
    },
    {
      "cell_type": "markdown",
      "source": [
        "Split Data into Training & Testing Sets"
      ],
      "metadata": {
        "id": "oMTg7ErTOWpq"
      }
    },
    {
      "cell_type": "code",
      "source": [
        "from sklearn.model_selection import train_test_split\n",
        "\n",
        "# Split dataset (80% train, 20% test)\n",
        "X_train, X_test, y_train, y_test = train_test_split(X, y, test_size=0.2, random_state=42)\n"
      ],
      "metadata": {
        "id": "a2PxYR_GOZ4u"
      },
      "execution_count": 8,
      "outputs": []
    },
    {
      "cell_type": "markdown",
      "source": [
        "Train a Naive Bayes Model"
      ],
      "metadata": {
        "id": "hfqNdGAzOcQF"
      }
    },
    {
      "cell_type": "code",
      "source": [
        "from sklearn.naive_bayes import MultinomialNB\n",
        "from sklearn.metrics import accuracy_score, classification_report\n",
        "\n",
        "# Train Naive Bayes model\n",
        "nb_model = MultinomialNB()\n",
        "nb_model.fit(X_train, y_train)\n",
        "\n",
        "# Make predictions\n",
        "y_pred_nb = nb_model.predict(X_test)\n",
        "\n",
        "# Evaluate Model\n",
        "print(\"Naive Bayes Accuracy:\", accuracy_score(y_test, y_pred_nb))\n",
        "print(classification_report(y_test, y_pred_nb))\n"
      ],
      "metadata": {
        "colab": {
          "base_uri": "https://localhost:8080/"
        },
        "id": "gO8-R7hHOh8Y",
        "outputId": "ced6e396-5453-452e-f6b7-19eac99d550c"
      },
      "execution_count": 9,
      "outputs": [
        {
          "output_type": "stream",
          "name": "stdout",
          "text": [
            "Naive Bayes Accuracy: 0.7223360655737705\n",
            "              precision    recall  f1-score   support\n",
            "\n",
            "           0       0.71      0.99      0.83      1889\n",
            "           1       0.74      0.20      0.32       580\n",
            "           2       0.89      0.29      0.43       459\n",
            "\n",
            "    accuracy                           0.72      2928\n",
            "   macro avg       0.78      0.49      0.53      2928\n",
            "weighted avg       0.75      0.72      0.66      2928\n",
            "\n"
          ]
        }
      ]
    },
    {
      "cell_type": "markdown",
      "source": [
        "Train a Random Forest Model"
      ],
      "metadata": {
        "id": "_T3HOV13OwYn"
      }
    },
    {
      "cell_type": "code",
      "source": [
        "from sklearn.ensemble import RandomForestClassifier\n",
        "\n",
        "# Train Random Forest model\n",
        "rf_model = RandomForestClassifier(n_estimators=100, random_state=42)\n",
        "rf_model.fit(X_train, y_train)\n",
        "\n",
        "# Make predictions\n",
        "y_pred_rf = rf_model.predict(X_test)\n",
        "\n",
        "# Evaluate Model\n",
        "print(\"Random Forest Accuracy:\", accuracy_score(y_test, y_pred_rf))\n",
        "print(classification_report(y_test, y_pred_rf))\n"
      ],
      "metadata": {
        "colab": {
          "base_uri": "https://localhost:8080/"
        },
        "id": "apJ1dxhEOuHX",
        "outputId": "7421af6d-e3b2-47f3-8700-c989e28b269a"
      },
      "execution_count": 10,
      "outputs": [
        {
          "output_type": "stream",
          "name": "stdout",
          "text": [
            "Random Forest Accuracy: 0.7759562841530054\n",
            "              precision    recall  f1-score   support\n",
            "\n",
            "           0       0.81      0.92      0.86      1889\n",
            "           1       0.63      0.46      0.53       580\n",
            "           2       0.77      0.57      0.66       459\n",
            "\n",
            "    accuracy                           0.78      2928\n",
            "   macro avg       0.74      0.65      0.68      2928\n",
            "weighted avg       0.77      0.78      0.76      2928\n",
            "\n"
          ]
        }
      ]
    },
    {
      "cell_type": "markdown",
      "source": [
        "**Compare Model Performance**"
      ],
      "metadata": {
        "id": "-eEPEidnPx6s"
      }
    },
    {
      "cell_type": "markdown",
      "source": [
        "Evaluate Naive Bayes Model"
      ],
      "metadata": {
        "id": "sAKfv0m4P5D0"
      }
    },
    {
      "cell_type": "code",
      "source": [
        "from sklearn.metrics import accuracy_score, classification_report, confusion_matrix\n",
        "\n",
        "# Evaluate Naive Bayes Model\n",
        "print(\"📌 Naive Bayes Model Performance:\")\n",
        "print(\"Accuracy:\", accuracy_score(y_test, y_pred_nb))\n",
        "print(\"Classification Report:\\n\", classification_report(y_test, y_pred_nb))\n",
        "\n",
        "# Confusion Matrix\n",
        "print(\"Confusion Matrix:\\n\", confusion_matrix(y_test, y_pred_nb))\n"
      ],
      "metadata": {
        "colab": {
          "base_uri": "https://localhost:8080/"
        },
        "id": "g4RmxaOoPz-Y",
        "outputId": "05313a04-9d34-414a-ac03-b752a1f4f2e4"
      },
      "execution_count": 11,
      "outputs": [
        {
          "output_type": "stream",
          "name": "stdout",
          "text": [
            "📌 Naive Bayes Model Performance:\n",
            "Accuracy: 0.7223360655737705\n",
            "Classification Report:\n",
            "               precision    recall  f1-score   support\n",
            "\n",
            "           0       0.71      0.99      0.83      1889\n",
            "           1       0.74      0.20      0.32       580\n",
            "           2       0.89      0.29      0.43       459\n",
            "\n",
            "    accuracy                           0.72      2928\n",
            "   macro avg       0.78      0.49      0.53      2928\n",
            "weighted avg       0.75      0.72      0.66      2928\n",
            "\n",
            "Confusion Matrix:\n",
            " [[1866   21    2]\n",
            " [ 448  118   14]\n",
            " [ 307   21  131]]\n"
          ]
        }
      ]
    },
    {
      "cell_type": "markdown",
      "source": [
        "Evaluate Random Forest Model"
      ],
      "metadata": {
        "id": "cov4hal9P7l5"
      }
    },
    {
      "cell_type": "code",
      "source": [
        "# Evaluate Random Forest Model\n",
        "print(\"\\n📌 Random Forest Model Performance:\")\n",
        "print(\"Accuracy:\", accuracy_score(y_test, y_pred_rf))\n",
        "print(\"Classification Report:\\n\", classification_report(y_test, y_pred_rf))\n",
        "\n",
        "# Confusion Matrix\n",
        "print(\"Confusion Matrix:\\n\", confusion_matrix(y_test, y_pred_rf))\n"
      ],
      "metadata": {
        "colab": {
          "base_uri": "https://localhost:8080/"
        },
        "id": "qMS06U9lP-me",
        "outputId": "931510f6-1bd3-4fa4-f1db-19ad7d6e0d62"
      },
      "execution_count": 12,
      "outputs": [
        {
          "output_type": "stream",
          "name": "stdout",
          "text": [
            "\n",
            "📌 Random Forest Model Performance:\n",
            "Accuracy: 0.7759562841530054\n",
            "Classification Report:\n",
            "               precision    recall  f1-score   support\n",
            "\n",
            "           0       0.81      0.92      0.86      1889\n",
            "           1       0.63      0.46      0.53       580\n",
            "           2       0.77      0.57      0.66       459\n",
            "\n",
            "    accuracy                           0.78      2928\n",
            "   macro avg       0.74      0.65      0.68      2928\n",
            "weighted avg       0.77      0.78      0.76      2928\n",
            "\n",
            "Confusion Matrix:\n",
            " [[1744  112   33]\n",
            " [ 268  266   46]\n",
            " [ 154   43  262]]\n"
          ]
        }
      ]
    },
    {
      "cell_type": "markdown",
      "source": [
        "Save the Random Forest Model and Vectorizer"
      ],
      "metadata": {
        "id": "tVq-oA5HQ_fs"
      }
    },
    {
      "cell_type": "code",
      "source": [
        "import joblib\n",
        "\n",
        "# Save the trained Random Forest model\n",
        "joblib.dump(rf_model, \"sentiment_model1.pkl\")\n",
        "\n",
        "# Save the TF-IDF vectorizer\n",
        "joblib.dump(vectorizer, \"vectorizer1.pkl\")\n",
        "\n",
        "print(\"✅ Model and Vectorizer saved successfully!\")\n",
        "import os\n",
        "print(\"Current Working Directory:\", os.getcwd())\n",
        "\n"
      ],
      "metadata": {
        "colab": {
          "base_uri": "https://localhost:8080/"
        },
        "id": "hfzGJpMkRAUt",
        "outputId": "d5587adc-9858-492a-a714-e7c3cb8bcfb9"
      },
      "execution_count": 14,
      "outputs": [
        {
          "output_type": "stream",
          "name": "stdout",
          "text": [
            "✅ Model and Vectorizer saved successfully!\n",
            "Current Working Directory: /content\n"
          ]
        }
      ]
    }
  ]
}