{
  "nbformat": 4,
  "nbformat_minor": 0,
  "metadata": {
    "colab": {
      "provenance": [],
      "authorship_tag": "ABX9TyNiyJfB3JA3wctv60cT6IXY",
      "include_colab_link": true
    },
    "kernelspec": {
      "name": "python3",
      "display_name": "Python 3"
    },
    "language_info": {
      "name": "python"
    }
  },
  "cells": [
    {
      "cell_type": "markdown",
      "metadata": {
        "id": "view-in-github",
        "colab_type": "text"
      },
      "source": [
        "<a href=\"https://colab.research.google.com/github/Nishanthini03/AI_Inetrnship/blob/main/AI_Practice2.ipynb\" target=\"_parent\"><img src=\"https://colab.research.google.com/assets/colab-badge.svg\" alt=\"Open In Colab\"/></a>"
      ]
    },
    {
      "cell_type": "markdown",
      "source": [
        " **Measures of Central Tendency**"
      ],
      "metadata": {
        "id": "4FHpAu64O74d"
      }
    },
    {
      "cell_type": "code",
      "execution_count": null,
      "metadata": {
        "colab": {
          "base_uri": "https://localhost:8080/"
        },
        "id": "_Nz8PdQEO1xh",
        "outputId": "20fc796f-a956-4dc7-a3da-cc36f6aa17df"
      },
      "outputs": [
        {
          "output_type": "stream",
          "name": "stdout",
          "text": [
            "Mean: 16.8, Median: 16.5, Mode: 14\n"
          ]
        }
      ],
      "source": [
        "import numpy as np\n",
        "from scipy import stats\n",
        "\n",
        "# Sample data\n",
        "data = np.array([12, 15, 14, 10, 18, 20, 22, 25, 18, 14])\n",
        "\n",
        "mean_value = np.mean(data)\n",
        "\n",
        "median_value = np.median(data)\n",
        "\n",
        "mode_value = stats.mode(data, keepdims=True)[0][0]\n",
        "\n",
        "print(f\"Mean: {mean_value}, Median: {median_value}, Mode: {mode_value}\")\n"
      ]
    },
    {
      "cell_type": "markdown",
      "source": [
        "**Measures of Dispersion**"
      ],
      "metadata": {
        "id": "gn3JNgZvP9he"
      }
    },
    {
      "cell_type": "code",
      "source": [
        "variance_value = np.var(data, ddof=1)  # ddof=1 for sample variance\n",
        "\n",
        "std_dev_value = np.std(data, ddof=1)\n",
        "\n",
        "# Range: Difference between max and min values\n",
        "range_value = np.max(data) - np.min(data)\n",
        "\n",
        "# Interquartile Range (IQR): Spread of the middle 50% of data\n",
        "q1, q3 = np.percentile(data, [25, 75])\n",
        "iqr_value = q3 - q1\n",
        "\n",
        "print(f\"Variance: {variance_value}, Std Dev: {std_dev_value}, Range: {range_value}, IQR: {iqr_value}\")\n"
      ],
      "metadata": {
        "colab": {
          "base_uri": "https://localhost:8080/"
        },
        "id": "iw0V3Pu-P86h",
        "outputId": "b980ec05-420c-444e-ed59-2c8b795c5dbc"
      },
      "execution_count": null,
      "outputs": [
        {
          "output_type": "stream",
          "name": "stdout",
          "text": [
            "Variance: 21.733333333333334, Std Dev: 4.661902329879224, Range: 15, IQR: 5.5\n"
          ]
        }
      ]
    },
    {
      "cell_type": "markdown",
      "source": [
        "**Probability Distribution (Histogram)**"
      ],
      "metadata": {
        "id": "LThaV087QQkz"
      }
    },
    {
      "cell_type": "code",
      "source": [
        "import matplotlib.pyplot as plt\n",
        "import seaborn as sns\n",
        "\n",
        "# Plot histogram with Kernel Density Estimation (KDE) curve\n",
        "sns.histplot(data, kde=True, bins=10, color='blue')\n",
        "plt.title(\"Data Distribution\")\n",
        "plt.xlabel(\"Value\")\n",
        "plt.ylabel(\"Frequency\")\n",
        "plt.show()\n"
      ],
      "metadata": {
        "colab": {
          "base_uri": "https://localhost:8080/",
          "height": 472
        },
        "id": "jc7rzxaDQc8L",
        "outputId": "b7b2479e-85ac-404f-de01-e4cf5cd62a58"
      },
      "execution_count": null,
      "outputs": [
        {
          "output_type": "display_data",
          "data": {
            "text/plain": [
              "<Figure size 640x480 with 1 Axes>"
            ],
            "image/png": "[encoded data removed]"
          },
          "metadata": {}
        }
      ]
    },
    {
      "cell_type": "markdown",
      "source": [
        "**Model Evaluation Metrics**"
      ],
      "metadata": {
        "id": "CFJUq7fPQrC9"
      }
    },
    {
      "cell_type": "markdown",
      "source": [
        "**1.Regression Metrics**\n",
        "\n"
      ],
      "metadata": {
        "id": "DPUm_1MLQyFr"
      }
    },
    {
      "cell_type": "code",
      "source": [
        "from sklearn.metrics import mean_absolute_error, mean_squared_error, r2_score\n",
        "\n",
        "# Actual values\n",
        "actual = np.array([3, -0.5, 2, 7])\n",
        "\n",
        "# Predicted values from model\n",
        "predicted = np.array([2.5, 0.0, 2, 8])\n",
        "\n",
        "# Mean Absolute Error (MAE): Average absolute difference\n",
        "mae = mean_absolute_error(actual, predicted)\n",
        "\n",
        "# Mean Squared Error (MSE): Average squared difference\n",
        "mse = mean_squared_error(actual, predicted)\n",
        "\n",
        "# Root Mean Squared Error (RMSE): Square root of MSE\n",
        "rmse = np.sqrt(mse)\n",
        "\n",
        "# R² Score: How well model explains data variance\n",
        "r2 = r2_score(actual, predicted)\n",
        "\n",
        "print(f\"MAE: {mae}, MSE: {mse}, RMSE: {rmse}, R2 Score: {r2}\")\n"
      ],
      "metadata": {
        "colab": {
          "base_uri": "https://localhost:8080/"
        },
        "id": "SQJqSvMuQt3T",
        "outputId": "028e861b-e7f3-403c-9cd0-990fbe55da18"
      },
      "execution_count": null,
      "outputs": [
        {
          "output_type": "stream",
          "name": "stdout",
          "text": [
            "MAE: 0.5, MSE: 0.375, RMSE: 0.6123724356957945, R2 Score: 0.9486081370449679\n"
          ]
        }
      ]
    },
    {
      "cell_type": "markdown",
      "source": [
        "  **2.Classification Metrics**"
      ],
      "metadata": {
        "id": "LVHeS0oQRewl"
      }
    },
    {
      "cell_type": "code",
      "source": [
        "from sklearn.metrics import accuracy_score, precision_score, recall_score, f1_score, roc_auc_score, confusion_matrix\n",
        "\n",
        "# True labels\n",
        "y_true = np.array([1, 0, 1, 1, 0, 1, 0, 0, 1, 1])\n",
        "\n",
        "# Predicted labels from model\n",
        "y_pred = np.array([1, 0, 1, 0, 0, 1, 1, 0, 1, 1])\n",
        "\n",
        "accuracy = accuracy_score(y_true, y_pred)\n",
        "\n",
        "# Precision: How many predicted positives were actually positive\n",
        "precision = precision_score(y_true, y_pred)\n",
        "\n",
        "# Recall: How many actual positives were correctly predicted\n",
        "recall = recall_score(y_true, y_pred)\n",
        "\n",
        "# F1 Score: Harmonic mean of Precision and Recall\n",
        "f1 = f1_score(y_true, y_pred)\n",
        "\n",
        "# ROC AUC Score: Measures classification performance\n",
        "roc_auc = roc_auc_score(y_true, y_pred)\n",
        "\n",
        "print(f\"Accuracy: {accuracy}, Precision: {precision}, Recall: {recall}, F1 Score: {f1}, ROC AUC: {roc_auc}\")\n"
      ],
      "metadata": {
        "colab": {
          "base_uri": "https://localhost:8080/"
        },
        "id": "e2iyqESoRm7q",
        "outputId": "920fe5f6-d61a-4c08-a734-8c16a794096d"
      },
      "execution_count": null,
      "outputs": [
        {
          "output_type": "stream",
          "name": "stdout",
          "text": [
            "Accuracy: 0.8, Precision: 0.8333333333333334, Recall: 0.8333333333333334, F1 Score: 0.8333333333333334, ROC AUC: 0.7916666666666666\n"
          ]
        }
      ]
    },
    {
      "cell_type": "markdown",
      "source": [
        "**Confusion Matrix Visualization**"
      ],
      "metadata": {
        "id": "UkvUNR0fSPzM"
      }
    },
    {
      "cell_type": "code",
      "source": [
        "conf_matrix = confusion_matrix(y_true, y_pred)\n",
        "\n",
        "# Visualize confusion matrix with heatmap\n",
        "sns.heatmap(conf_matrix, annot=True, cmap='Blues', fmt='d')\n",
        "plt.title(\"Confusion Matrix\")\n",
        "plt.xlabel(\"Predicted Label\")\n",
        "plt.ylabel(\"Actual Label\")\n",
        "plt.show()\n"
      ],
      "metadata": {
        "colab": {
          "base_uri": "https://localhost:8080/",
          "height": 472
        },
        "id": "ruijL-p5SV6G",
        "outputId": "48bf613b-cb96-4af2-c6ed-d937c6553b97"
      },
      "execution_count": null,
      "outputs": [
        {
          "output_type": "display_data",
          "data": {
            "text/plain": [
              "<Figure size 640x480 with 2 Axes>"
            ],
            "image/png": "[encoded data removed]"
          },
          "metadata": {}
        }
      ]
    }
  ]
}